{
 "cells": [
  {
   "cell_type": "markdown",
   "id": "c8afefaf",
   "metadata": {},
   "source": [
    "# Importe das bibliotecas e dataframes"
   ]
  },
  {
   "cell_type": "code",
   "execution_count": 2,
   "id": "9f568444",
   "metadata": {
    "ExecuteTime": {
     "end_time": "2021-11-06T14:26:05.497491Z",
     "start_time": "2021-11-06T14:26:05.493990Z"
    }
   },
   "outputs": [],
   "source": [
    "import pandas as pd\n",
    "import numpy as np\n",
    "import seaborn as sns\n",
    "import matplotlib.pyplot as plt"
   ]
  },
  {
   "cell_type": "code",
   "execution_count": 3,
   "id": "5d47b263",
   "metadata": {
    "ExecuteTime": {
     "end_time": "2021-11-06T14:26:05.946989Z",
     "start_time": "2021-11-06T14:26:05.498989Z"
    }
   },
   "outputs": [],
   "source": [
    "df_item = pd.read_csv('DNC_order_items_dataset.csv').drop('Unnamed: 0', axis=1)\n",
    "df_review = pd.read_csv('DNC_order_reviews_dataset.csv').drop('Unnamed: 0', axis=1)\n",
    "df_order = pd.read_csv('DNC_orders_dataset.csv').drop('Unnamed: 0', axis=1)\n",
    "df_product = pd.read_csv('DNC_products_dataset.csv').drop('Unnamed: 0', axis=1)"
   ]
  },
  {
   "cell_type": "markdown",
   "id": "27be7c1a",
   "metadata": {},
   "source": [
    "# Análise de cada dataframe"
   ]
  },
  {
   "cell_type": "markdown",
   "id": "0f7626c3",
   "metadata": {},
   "source": [
    "## Itens"
   ]
  },
  {
   "cell_type": "code",
   "execution_count": 4,
   "id": "2545028f",
   "metadata": {
    "ExecuteTime": {
     "end_time": "2021-11-06T14:26:05.962489Z",
     "start_time": "2021-11-06T14:26:05.948489Z"
    }
   },
   "outputs": [
    {
     "data": {
      "text/html": [
       "<div>\n",
       "<style scoped>\n",
       "    .dataframe tbody tr th:only-of-type {\n",
       "        vertical-align: middle;\n",
       "    }\n",
       "\n",
       "    .dataframe tbody tr th {\n",
       "        vertical-align: top;\n",
       "    }\n",
       "\n",
       "    .dataframe thead th {\n",
       "        text-align: right;\n",
       "    }\n",
       "</style>\n",
       "<table border=\"1\" class=\"dataframe\">\n",
       "  <thead>\n",
       "    <tr style=\"text-align: right;\">\n",
       "      <th></th>\n",
       "      <th>order_id</th>\n",
       "      <th>order_item_id</th>\n",
       "      <th>product_id</th>\n",
       "      <th>price</th>\n",
       "    </tr>\n",
       "  </thead>\n",
       "  <tbody>\n",
       "    <tr>\n",
       "      <th>0</th>\n",
       "      <td>00010242fe8c5a6d1ba2dd792cb16214</td>\n",
       "      <td>1</td>\n",
       "      <td>4244733e06e7ecb4970a6e2683c13e61</td>\n",
       "      <td>58.90</td>\n",
       "    </tr>\n",
       "    <tr>\n",
       "      <th>1</th>\n",
       "      <td>00018f77f2f0320c557190d7a144bdd3</td>\n",
       "      <td>1</td>\n",
       "      <td>e5f2d52b802189ee658865ca93d83a8f</td>\n",
       "      <td>239.90</td>\n",
       "    </tr>\n",
       "    <tr>\n",
       "      <th>2</th>\n",
       "      <td>000229ec398224ef6ca0657da4fc703e</td>\n",
       "      <td>1</td>\n",
       "      <td>c777355d18b72b67abbeef9df44fd0fd</td>\n",
       "      <td>199.00</td>\n",
       "    </tr>\n",
       "    <tr>\n",
       "      <th>3</th>\n",
       "      <td>00024acbcdf0a6daa1e931b038114c75</td>\n",
       "      <td>1</td>\n",
       "      <td>7634da152a4610f1595efa32f14722fc</td>\n",
       "      <td>12.99</td>\n",
       "    </tr>\n",
       "    <tr>\n",
       "      <th>4</th>\n",
       "      <td>00042b26cf59d7ce69dfabb4e55b4fd9</td>\n",
       "      <td>1</td>\n",
       "      <td>ac6c3623068f30de03045865e4e10089</td>\n",
       "      <td>199.90</td>\n",
       "    </tr>\n",
       "  </tbody>\n",
       "</table>\n",
       "</div>"
      ],
      "text/plain": [
       "                           order_id  order_item_id  \\\n",
       "0  00010242fe8c5a6d1ba2dd792cb16214              1   \n",
       "1  00018f77f2f0320c557190d7a144bdd3              1   \n",
       "2  000229ec398224ef6ca0657da4fc703e              1   \n",
       "3  00024acbcdf0a6daa1e931b038114c75              1   \n",
       "4  00042b26cf59d7ce69dfabb4e55b4fd9              1   \n",
       "\n",
       "                         product_id   price  \n",
       "0  4244733e06e7ecb4970a6e2683c13e61   58.90  \n",
       "1  e5f2d52b802189ee658865ca93d83a8f  239.90  \n",
       "2  c777355d18b72b67abbeef9df44fd0fd  199.00  \n",
       "3  7634da152a4610f1595efa32f14722fc   12.99  \n",
       "4  ac6c3623068f30de03045865e4e10089  199.90  "
      ]
     },
     "execution_count": 4,
     "metadata": {},
     "output_type": "execute_result"
    }
   ],
   "source": [
    "df_item.head()"
   ]
  },
  {
   "cell_type": "code",
   "execution_count": 24,
   "id": "6fe1334f",
   "metadata": {
    "ExecuteTime": {
     "end_time": "2021-11-06T14:39:18.165633Z",
     "start_time": "2021-11-06T14:39:18.137678Z"
    }
   },
   "outputs": [
    {
     "name": "stdout",
     "output_type": "stream",
     "text": [
      "<class 'pandas.core.frame.DataFrame'>\n",
      "RangeIndex: 112650 entries, 0 to 112649\n",
      "Data columns (total 4 columns):\n",
      " #   Column         Non-Null Count   Dtype  \n",
      "---  ------         --------------   -----  \n",
      " 0   order_id       112650 non-null  object \n",
      " 1   order_item_id  112650 non-null  int64  \n",
      " 2   product_id     112650 non-null  object \n",
      " 3   price          112650 non-null  float64\n",
      "dtypes: float64(1), int64(1), object(2)\n",
      "memory usage: 3.4+ MB\n"
     ]
    }
   ],
   "source": [
    "df_item.info()"
   ]
  },
  {
   "cell_type": "code",
   "execution_count": 86,
   "id": "287667fc",
   "metadata": {
    "ExecuteTime": {
     "end_time": "2021-11-06T16:06:46.016639Z",
     "start_time": "2021-11-06T16:06:45.969639Z"
    }
   },
   "outputs": [
    {
     "data": {
      "text/plain": [
       "0"
      ]
     },
     "execution_count": 86,
     "metadata": {},
     "output_type": "execute_result"
    }
   ],
   "source": [
    "df_item.duplicated().sum()"
   ]
  },
  {
   "cell_type": "code",
   "execution_count": 33,
   "id": "5e4b9885",
   "metadata": {
    "ExecuteTime": {
     "end_time": "2021-11-06T14:43:06.247994Z",
     "start_time": "2021-11-06T14:43:06.239501Z"
    }
   },
   "outputs": [
    {
     "data": {
      "text/plain": [
       "1     98666\n",
       "2      9803\n",
       "3      2287\n",
       "4       965\n",
       "5       460\n",
       "6       256\n",
       "7        58\n",
       "8        36\n",
       "9        28\n",
       "10       25\n",
       "11       17\n",
       "12       13\n",
       "13        8\n",
       "14        7\n",
       "15        5\n",
       "16        3\n",
       "17        3\n",
       "18        3\n",
       "19        3\n",
       "20        3\n",
       "21        1\n",
       "Name: order_item_id, dtype: int64"
      ]
     },
     "execution_count": 33,
     "metadata": {},
     "output_type": "execute_result"
    }
   ],
   "source": [
    "df_item['order_item_id'].value_counts()"
   ]
  },
  {
   "cell_type": "code",
   "execution_count": 18,
   "id": "ba55a27c",
   "metadata": {
    "ExecuteTime": {
     "end_time": "2021-11-06T14:34:47.082970Z",
     "start_time": "2021-11-06T14:34:47.013291Z"
    }
   },
   "outputs": [
    {
     "data": {
      "text/plain": [
       "count    98666.000000\n",
       "mean       137.754076\n",
       "std        210.645145\n",
       "min          0.850000\n",
       "25%         45.900000\n",
       "50%         86.900000\n",
       "75%        149.900000\n",
       "max      13440.000000\n",
       "Name: price, dtype: float64"
      ]
     },
     "execution_count": 18,
     "metadata": {},
     "output_type": "execute_result"
    }
   ],
   "source": [
    "df_item.groupby('order_id')['price'].sum().describe()"
   ]
  },
  {
   "cell_type": "code",
   "execution_count": 20,
   "id": "672c024d",
   "metadata": {
    "ExecuteTime": {
     "end_time": "2021-11-06T14:36:08.716833Z",
     "start_time": "2021-11-06T14:36:08.554743Z"
    }
   },
   "outputs": [
    {
     "name": "stderr",
     "output_type": "stream",
     "text": [
      "C:\\ProgramData\\Anaconda3\\lib\\site-packages\\seaborn\\_decorators.py:36: FutureWarning: Pass the following variable as a keyword arg: x. From version 0.12, the only valid positional argument will be `data`, and passing other arguments without an explicit keyword will result in an error or misinterpretation.\n",
      "  warnings.warn(\n"
     ]
    },
    {
     "data": {
      "image/png": "[encoded data removed]",
      "text/plain": [
       "<Figure size 432x288 with 1 Axes>"
      ]
     },
     "metadata": {
      "needs_background": "light"
     },
     "output_type": "display_data"
    }
   ],
   "source": [
    "sns.boxplot(df_item.groupby('order_id')['price'].sum())\n",
    "plt.show()"
   ]
  },
  {
   "cell_type": "code",
   "execution_count": 23,
   "id": "697a7d70",
   "metadata": {
    "ExecuteTime": {
     "end_time": "2021-11-06T14:37:40.306817Z",
     "start_time": "2021-11-06T14:37:40.256476Z"
    }
   },
   "outputs": [
    {
     "data": {
      "text/plain": [
       "count    32951.000000\n",
       "mean       145.302464\n",
       "std        246.895756\n",
       "min          0.850000\n",
       "25%         39.900000\n",
       "50%         79.000000\n",
       "75%        154.900000\n",
       "max       6735.000000\n",
       "Name: price, dtype: float64"
      ]
     },
     "execution_count": 23,
     "metadata": {},
     "output_type": "execute_result"
    }
   ],
   "source": [
    "df_item.groupby('product_id')['price'].mean().describe()"
   ]
  },
  {
   "cell_type": "code",
   "execution_count": 22,
   "id": "b71b8d9f",
   "metadata": {
    "ExecuteTime": {
     "end_time": "2021-11-06T14:37:21.399735Z",
     "start_time": "2021-11-06T14:37:21.266439Z"
    }
   },
   "outputs": [
    {
     "name": "stderr",
     "output_type": "stream",
     "text": [
      "C:\\ProgramData\\Anaconda3\\lib\\site-packages\\seaborn\\_decorators.py:36: FutureWarning: Pass the following variable as a keyword arg: x. From version 0.12, the only valid positional argument will be `data`, and passing other arguments without an explicit keyword will result in an error or misinterpretation.\n",
      "  warnings.warn(\n"
     ]
    },
    {
     "data": {
      "image/png": "[encoded data removed]",
      "text/plain": [
       "<Figure size 432x288 with 1 Axes>"
      ]
     },
     "metadata": {
      "needs_background": "light"
     },
     "output_type": "display_data"
    }
   ],
   "source": [
    "sns.boxplot(df_item.groupby('product_id')['price'].mean())\n",
    "plt.show()"
   ]
  },
  {
   "cell_type": "markdown",
   "id": "fed0bd38",
   "metadata": {},
   "source": [
    "## Review"
   ]
  },
  {
   "cell_type": "code",
   "execution_count": 5,
   "id": "f8754909",
   "metadata": {
    "ExecuteTime": {
     "end_time": "2021-11-06T14:26:05.977990Z",
     "start_time": "2021-11-06T14:26:05.964489Z"
    }
   },
   "outputs": [
    {
     "data": {
      "text/html": [
       "<div>\n",
       "<style scoped>\n",
       "    .dataframe tbody tr th:only-of-type {\n",
       "        vertical-align: middle;\n",
       "    }\n",
       "\n",
       "    .dataframe tbody tr th {\n",
       "        vertical-align: top;\n",
       "    }\n",
       "\n",
       "    .dataframe thead th {\n",
       "        text-align: right;\n",
       "    }\n",
       "</style>\n",
       "<table border=\"1\" class=\"dataframe\">\n",
       "  <thead>\n",
       "    <tr style=\"text-align: right;\">\n",
       "      <th></th>\n",
       "      <th>review_id</th>\n",
       "      <th>order_id</th>\n",
       "      <th>review_score</th>\n",
       "    </tr>\n",
       "  </thead>\n",
       "  <tbody>\n",
       "    <tr>\n",
       "      <th>0</th>\n",
       "      <td>7bc2406110b926393aa56f80a40eba40</td>\n",
       "      <td>73fc7af87114b39712e6da79b0a377eb</td>\n",
       "      <td>4</td>\n",
       "    </tr>\n",
       "    <tr>\n",
       "      <th>1</th>\n",
       "      <td>80e641a11e56f04c1ad469d5645fdfde</td>\n",
       "      <td>a548910a1c6147796b98fdf73dbeba33</td>\n",
       "      <td>5</td>\n",
       "    </tr>\n",
       "    <tr>\n",
       "      <th>2</th>\n",
       "      <td>228ce5500dc1d8e020d8d1322874b6f0</td>\n",
       "      <td>f9e4b658b201a9f2ecdecbb34bed034b</td>\n",
       "      <td>5</td>\n",
       "    </tr>\n",
       "    <tr>\n",
       "      <th>3</th>\n",
       "      <td>e64fb393e7b32834bb789ff8bb30750e</td>\n",
       "      <td>658677c97b385a9be170737859d3511b</td>\n",
       "      <td>5</td>\n",
       "    </tr>\n",
       "    <tr>\n",
       "      <th>4</th>\n",
       "      <td>f7c4243c7fe1938f181bec41a392bdeb</td>\n",
       "      <td>8e6bfb81e283fa7e4f11123a3fb894f1</td>\n",
       "      <td>5</td>\n",
       "    </tr>\n",
       "  </tbody>\n",
       "</table>\n",
       "</div>"
      ],
      "text/plain": [
       "                          review_id                          order_id  \\\n",
       "0  7bc2406110b926393aa56f80a40eba40  73fc7af87114b39712e6da79b0a377eb   \n",
       "1  80e641a11e56f04c1ad469d5645fdfde  a548910a1c6147796b98fdf73dbeba33   \n",
       "2  228ce5500dc1d8e020d8d1322874b6f0  f9e4b658b201a9f2ecdecbb34bed034b   \n",
       "3  e64fb393e7b32834bb789ff8bb30750e  658677c97b385a9be170737859d3511b   \n",
       "4  f7c4243c7fe1938f181bec41a392bdeb  8e6bfb81e283fa7e4f11123a3fb894f1   \n",
       "\n",
       "   review_score  \n",
       "0             4  \n",
       "1             5  \n",
       "2             5  \n",
       "3             5  \n",
       "4             5  "
      ]
     },
     "execution_count": 5,
     "metadata": {},
     "output_type": "execute_result"
    }
   ],
   "source": [
    "df_review.head()"
   ]
  },
  {
   "cell_type": "code",
   "execution_count": 34,
   "id": "3f7cc338",
   "metadata": {
    "ExecuteTime": {
     "end_time": "2021-11-06T14:43:29.830063Z",
     "start_time": "2021-11-06T14:43:29.801002Z"
    }
   },
   "outputs": [
    {
     "name": "stdout",
     "output_type": "stream",
     "text": [
      "<class 'pandas.core.frame.DataFrame'>\n",
      "RangeIndex: 99224 entries, 0 to 99223\n",
      "Data columns (total 3 columns):\n",
      " #   Column        Non-Null Count  Dtype \n",
      "---  ------        --------------  ----- \n",
      " 0   review_id     99224 non-null  object\n",
      " 1   order_id      99224 non-null  object\n",
      " 2   review_score  99224 non-null  int64 \n",
      "dtypes: int64(1), object(2)\n",
      "memory usage: 2.3+ MB\n"
     ]
    }
   ],
   "source": [
    "df_review.info()"
   ]
  },
  {
   "cell_type": "code",
   "execution_count": 87,
   "id": "e811d796",
   "metadata": {
    "ExecuteTime": {
     "end_time": "2021-11-06T16:07:02.767722Z",
     "start_time": "2021-11-06T16:07:02.713697Z"
    }
   },
   "outputs": [
    {
     "data": {
      "text/plain": [
       "0"
      ]
     },
     "execution_count": 87,
     "metadata": {},
     "output_type": "execute_result"
    }
   ],
   "source": [
    "df_review.duplicated().sum()"
   ]
  },
  {
   "cell_type": "code",
   "execution_count": 39,
   "id": "a89aaa1b",
   "metadata": {
    "ExecuteTime": {
     "end_time": "2021-11-06T14:45:24.367817Z",
     "start_time": "2021-11-06T14:45:24.255512Z"
    }
   },
   "outputs": [
    {
     "name": "stderr",
     "output_type": "stream",
     "text": [
      "C:\\ProgramData\\Anaconda3\\lib\\site-packages\\seaborn\\_decorators.py:36: FutureWarning: Pass the following variable as a keyword arg: x. From version 0.12, the only valid positional argument will be `data`, and passing other arguments without an explicit keyword will result in an error or misinterpretation.\n",
      "  warnings.warn(\n"
     ]
    },
    {
     "data": {
      "text/plain": [
       "<AxesSubplot:xlabel='review_score', ylabel='count'>"
      ]
     },
     "execution_count": 39,
     "metadata": {},
     "output_type": "execute_result"
    },
    {
     "data": {
      "image/png": "[encoded data removed]",
      "text/plain": [
       "<Figure size 432x288 with 1 Axes>"
      ]
     },
     "metadata": {
      "needs_background": "light"
     },
     "output_type": "display_data"
    }
   ],
   "source": [
    "sns.countplot(df_review['review_score'])"
   ]
  },
  {
   "cell_type": "markdown",
   "id": "4ddf12a0",
   "metadata": {},
   "source": [
    "## Order"
   ]
  },
  {
   "cell_type": "code",
   "execution_count": 6,
   "id": "f171d278",
   "metadata": {
    "ExecuteTime": {
     "end_time": "2021-11-06T14:26:05.993490Z",
     "start_time": "2021-11-06T14:26:05.979489Z"
    }
   },
   "outputs": [
    {
     "data": {
      "text/html": [
       "<div>\n",
       "<style scoped>\n",
       "    .dataframe tbody tr th:only-of-type {\n",
       "        vertical-align: middle;\n",
       "    }\n",
       "\n",
       "    .dataframe tbody tr th {\n",
       "        vertical-align: top;\n",
       "    }\n",
       "\n",
       "    .dataframe thead th {\n",
       "        text-align: right;\n",
       "    }\n",
       "</style>\n",
       "<table border=\"1\" class=\"dataframe\">\n",
       "  <thead>\n",
       "    <tr style=\"text-align: right;\">\n",
       "      <th></th>\n",
       "      <th>order_id</th>\n",
       "      <th>customer_id</th>\n",
       "      <th>order_status</th>\n",
       "    </tr>\n",
       "  </thead>\n",
       "  <tbody>\n",
       "    <tr>\n",
       "      <th>0</th>\n",
       "      <td>e481f51cbdc54678b7cc49136f2d6af7</td>\n",
       "      <td>9ef432eb6251297304e76186b10a928d</td>\n",
       "      <td>delivered</td>\n",
       "    </tr>\n",
       "    <tr>\n",
       "      <th>1</th>\n",
       "      <td>53cdb2fc8bc7dce0b6741e2150273451</td>\n",
       "      <td>b0830fb4747a6c6d20dea0b8c802d7ef</td>\n",
       "      <td>delivered</td>\n",
       "    </tr>\n",
       "    <tr>\n",
       "      <th>2</th>\n",
       "      <td>47770eb9100c2d0c44946d9cf07ec65d</td>\n",
       "      <td>41ce2a54c0b03bf3443c3d931a367089</td>\n",
       "      <td>delivered</td>\n",
       "    </tr>\n",
       "    <tr>\n",
       "      <th>3</th>\n",
       "      <td>949d5b44dbf5de918fe9c16f97b45f8a</td>\n",
       "      <td>f88197465ea7920adcdbec7375364d82</td>\n",
       "      <td>delivered</td>\n",
       "    </tr>\n",
       "    <tr>\n",
       "      <th>4</th>\n",
       "      <td>ad21c59c0840e6cb83a9ceb5573f8159</td>\n",
       "      <td>8ab97904e6daea8866dbdbc4fb7aad2c</td>\n",
       "      <td>delivered</td>\n",
       "    </tr>\n",
       "  </tbody>\n",
       "</table>\n",
       "</div>"
      ],
      "text/plain": [
       "                           order_id                       customer_id  \\\n",
       "0  e481f51cbdc54678b7cc49136f2d6af7  9ef432eb6251297304e76186b10a928d   \n",
       "1  53cdb2fc8bc7dce0b6741e2150273451  b0830fb4747a6c6d20dea0b8c802d7ef   \n",
       "2  47770eb9100c2d0c44946d9cf07ec65d  41ce2a54c0b03bf3443c3d931a367089   \n",
       "3  949d5b44dbf5de918fe9c16f97b45f8a  f88197465ea7920adcdbec7375364d82   \n",
       "4  ad21c59c0840e6cb83a9ceb5573f8159  8ab97904e6daea8866dbdbc4fb7aad2c   \n",
       "\n",
       "  order_status  \n",
       "0    delivered  \n",
       "1    delivered  \n",
       "2    delivered  \n",
       "3    delivered  \n",
       "4    delivered  "
      ]
     },
     "execution_count": 6,
     "metadata": {},
     "output_type": "execute_result"
    }
   ],
   "source": [
    "df_order.head()"
   ]
  },
  {
   "cell_type": "code",
   "execution_count": 40,
   "id": "5cb8228e",
   "metadata": {
    "ExecuteTime": {
     "end_time": "2021-11-06T14:46:00.675944Z",
     "start_time": "2021-11-06T14:46:00.655970Z"
    }
   },
   "outputs": [
    {
     "name": "stdout",
     "output_type": "stream",
     "text": [
      "<class 'pandas.core.frame.DataFrame'>\n",
      "RangeIndex: 99441 entries, 0 to 99440\n",
      "Data columns (total 3 columns):\n",
      " #   Column        Non-Null Count  Dtype \n",
      "---  ------        --------------  ----- \n",
      " 0   order_id      99441 non-null  object\n",
      " 1   customer_id   99441 non-null  object\n",
      " 2   order_status  99441 non-null  object\n",
      "dtypes: object(3)\n",
      "memory usage: 2.3+ MB\n"
     ]
    }
   ],
   "source": [
    "df_order.info()"
   ]
  },
  {
   "cell_type": "code",
   "execution_count": 88,
   "id": "29d0c3f3",
   "metadata": {
    "ExecuteTime": {
     "end_time": "2021-11-06T16:07:14.975781Z",
     "start_time": "2021-11-06T16:07:14.905781Z"
    }
   },
   "outputs": [
    {
     "data": {
      "text/plain": [
       "0"
      ]
     },
     "execution_count": 88,
     "metadata": {},
     "output_type": "execute_result"
    }
   ],
   "source": [
    "df_order.duplicated().sum()"
   ]
  },
  {
   "cell_type": "code",
   "execution_count": 45,
   "id": "4042a88d",
   "metadata": {
    "ExecuteTime": {
     "end_time": "2021-11-06T14:47:25.369043Z",
     "start_time": "2021-11-06T14:47:25.351968Z"
    }
   },
   "outputs": [
    {
     "data": {
      "text/plain": [
       "delivered      96478\n",
       "shipped         1107\n",
       "canceled         625\n",
       "unavailable      609\n",
       "invoiced         314\n",
       "processing       301\n",
       "created            5\n",
       "approved           2\n",
       "Name: order_status, dtype: int64"
      ]
     },
     "execution_count": 45,
     "metadata": {},
     "output_type": "execute_result"
    }
   ],
   "source": [
    "df_order['order_status'].value_counts()"
   ]
  },
  {
   "cell_type": "code",
   "execution_count": 44,
   "id": "f2b5c77a",
   "metadata": {
    "ExecuteTime": {
     "end_time": "2021-11-06T14:46:58.060704Z",
     "start_time": "2021-11-06T14:46:57.880969Z"
    }
   },
   "outputs": [
    {
     "name": "stderr",
     "output_type": "stream",
     "text": [
      "C:\\ProgramData\\Anaconda3\\lib\\site-packages\\seaborn\\_decorators.py:36: FutureWarning: Pass the following variable as a keyword arg: x. From version 0.12, the only valid positional argument will be `data`, and passing other arguments without an explicit keyword will result in an error or misinterpretation.\n",
      "  warnings.warn(\n"
     ]
    },
    {
     "data": {
      "image/png": "[encoded data removed]",
      "text/plain": [
       "<Figure size 1080x504 with 1 Axes>"
      ]
     },
     "metadata": {
      "needs_background": "light"
     },
     "output_type": "display_data"
    }
   ],
   "source": [
    "plt.figure(figsize=(15,7))\n",
    "sns.countplot(df_order['order_status'])\n",
    "plt.show()"
   ]
  },
  {
   "cell_type": "markdown",
   "id": "b3cf310c",
   "metadata": {},
   "source": [
    "## Product"
   ]
  },
  {
   "cell_type": "code",
   "execution_count": 7,
   "id": "3e0fa180",
   "metadata": {
    "ExecuteTime": {
     "end_time": "2021-11-06T14:26:06.008989Z",
     "start_time": "2021-11-06T14:26:05.994989Z"
    }
   },
   "outputs": [
    {
     "data": {
      "text/html": [
       "<div>\n",
       "<style scoped>\n",
       "    .dataframe tbody tr th:only-of-type {\n",
       "        vertical-align: middle;\n",
       "    }\n",
       "\n",
       "    .dataframe tbody tr th {\n",
       "        vertical-align: top;\n",
       "    }\n",
       "\n",
       "    .dataframe thead th {\n",
       "        text-align: right;\n",
       "    }\n",
       "</style>\n",
       "<table border=\"1\" class=\"dataframe\">\n",
       "  <thead>\n",
       "    <tr style=\"text-align: right;\">\n",
       "      <th></th>\n",
       "      <th>product_id</th>\n",
       "      <th>product_category_name</th>\n",
       "      <th>product_name_lenght</th>\n",
       "      <th>product_description_lenght</th>\n",
       "      <th>product_weight_g</th>\n",
       "      <th>product_length_cm</th>\n",
       "      <th>product_height_cm</th>\n",
       "      <th>product_width_cm</th>\n",
       "    </tr>\n",
       "  </thead>\n",
       "  <tbody>\n",
       "    <tr>\n",
       "      <th>0</th>\n",
       "      <td>1e9e8ef04dbcff4541ed26657ea517e5</td>\n",
       "      <td>perfumaria</td>\n",
       "      <td>40.0</td>\n",
       "      <td>287.0</td>\n",
       "      <td>225.0</td>\n",
       "      <td>16.0</td>\n",
       "      <td>10.0</td>\n",
       "      <td>14.0</td>\n",
       "    </tr>\n",
       "    <tr>\n",
       "      <th>1</th>\n",
       "      <td>3aa071139cb16b67ca9e5dea641aaa2f</td>\n",
       "      <td>artes</td>\n",
       "      <td>44.0</td>\n",
       "      <td>276.0</td>\n",
       "      <td>1000.0</td>\n",
       "      <td>30.0</td>\n",
       "      <td>18.0</td>\n",
       "      <td>20.0</td>\n",
       "    </tr>\n",
       "    <tr>\n",
       "      <th>2</th>\n",
       "      <td>96bd76ec8810374ed1b65e291975717f</td>\n",
       "      <td>esporte_lazer</td>\n",
       "      <td>46.0</td>\n",
       "      <td>250.0</td>\n",
       "      <td>154.0</td>\n",
       "      <td>18.0</td>\n",
       "      <td>9.0</td>\n",
       "      <td>15.0</td>\n",
       "    </tr>\n",
       "    <tr>\n",
       "      <th>3</th>\n",
       "      <td>cef67bcfe19066a932b7673e239eb23d</td>\n",
       "      <td>bebes</td>\n",
       "      <td>27.0</td>\n",
       "      <td>261.0</td>\n",
       "      <td>371.0</td>\n",
       "      <td>26.0</td>\n",
       "      <td>4.0</td>\n",
       "      <td>26.0</td>\n",
       "    </tr>\n",
       "    <tr>\n",
       "      <th>4</th>\n",
       "      <td>9dc1a7de274444849c219cff195d0b71</td>\n",
       "      <td>utilidades_domesticas</td>\n",
       "      <td>37.0</td>\n",
       "      <td>402.0</td>\n",
       "      <td>625.0</td>\n",
       "      <td>20.0</td>\n",
       "      <td>17.0</td>\n",
       "      <td>13.0</td>\n",
       "    </tr>\n",
       "  </tbody>\n",
       "</table>\n",
       "</div>"
      ],
      "text/plain": [
       "                         product_id  product_category_name  \\\n",
       "0  1e9e8ef04dbcff4541ed26657ea517e5             perfumaria   \n",
       "1  3aa071139cb16b67ca9e5dea641aaa2f                  artes   \n",
       "2  96bd76ec8810374ed1b65e291975717f          esporte_lazer   \n",
       "3  cef67bcfe19066a932b7673e239eb23d                  bebes   \n",
       "4  9dc1a7de274444849c219cff195d0b71  utilidades_domesticas   \n",
       "\n",
       "   product_name_lenght  product_description_lenght  product_weight_g  \\\n",
       "0                 40.0                       287.0             225.0   \n",
       "1                 44.0                       276.0            1000.0   \n",
       "2                 46.0                       250.0             154.0   \n",
       "3                 27.0                       261.0             371.0   \n",
       "4                 37.0                       402.0             625.0   \n",
       "\n",
       "   product_length_cm  product_height_cm  product_width_cm  \n",
       "0               16.0               10.0              14.0  \n",
       "1               30.0               18.0              20.0  \n",
       "2               18.0                9.0              15.0  \n",
       "3               26.0                4.0              26.0  \n",
       "4               20.0               17.0              13.0  "
      ]
     },
     "execution_count": 7,
     "metadata": {},
     "output_type": "execute_result"
    }
   ],
   "source": [
    "df_product.head()"
   ]
  },
  {
   "cell_type": "code",
   "execution_count": 50,
   "id": "88297777",
   "metadata": {
    "ExecuteTime": {
     "end_time": "2021-11-06T14:54:06.161314Z",
     "start_time": "2021-11-06T14:54:06.141315Z"
    }
   },
   "outputs": [
    {
     "name": "stdout",
     "output_type": "stream",
     "text": [
      "<class 'pandas.core.frame.DataFrame'>\n",
      "RangeIndex: 32951 entries, 0 to 32950\n",
      "Data columns (total 8 columns):\n",
      " #   Column                      Non-Null Count  Dtype  \n",
      "---  ------                      --------------  -----  \n",
      " 0   product_id                  32951 non-null  object \n",
      " 1   product_category_name       32341 non-null  object \n",
      " 2   product_name_lenght         32341 non-null  float64\n",
      " 3   product_description_lenght  32341 non-null  float64\n",
      " 4   product_weight_g            32949 non-null  float64\n",
      " 5   product_length_cm           32949 non-null  float64\n",
      " 6   product_height_cm           32949 non-null  float64\n",
      " 7   product_width_cm            32949 non-null  float64\n",
      "dtypes: float64(6), object(2)\n",
      "memory usage: 2.0+ MB\n"
     ]
    }
   ],
   "source": [
    "df_product.info()"
   ]
  },
  {
   "cell_type": "code",
   "execution_count": 89,
   "id": "25ae3951",
   "metadata": {
    "ExecuteTime": {
     "end_time": "2021-11-06T16:07:29.992832Z",
     "start_time": "2021-11-06T16:07:29.963834Z"
    }
   },
   "outputs": [
    {
     "data": {
      "text/plain": [
       "0"
      ]
     },
     "execution_count": 89,
     "metadata": {},
     "output_type": "execute_result"
    }
   ],
   "source": [
    "df_product.duplicated().sum()"
   ]
  },
  {
   "cell_type": "code",
   "execution_count": 51,
   "id": "d6eb6a32",
   "metadata": {
    "ExecuteTime": {
     "end_time": "2021-11-06T14:54:15.050982Z",
     "start_time": "2021-11-06T14:54:15.021929Z"
    }
   },
   "outputs": [
    {
     "data": {
      "text/html": [
       "<div>\n",
       "<style scoped>\n",
       "    .dataframe tbody tr th:only-of-type {\n",
       "        vertical-align: middle;\n",
       "    }\n",
       "\n",
       "    .dataframe tbody tr th {\n",
       "        vertical-align: top;\n",
       "    }\n",
       "\n",
       "    .dataframe thead th {\n",
       "        text-align: right;\n",
       "    }\n",
       "</style>\n",
       "<table border=\"1\" class=\"dataframe\">\n",
       "  <thead>\n",
       "    <tr style=\"text-align: right;\">\n",
       "      <th></th>\n",
       "      <th>product_name_lenght</th>\n",
       "      <th>product_description_lenght</th>\n",
       "      <th>product_weight_g</th>\n",
       "      <th>product_length_cm</th>\n",
       "      <th>product_height_cm</th>\n",
       "      <th>product_width_cm</th>\n",
       "    </tr>\n",
       "  </thead>\n",
       "  <tbody>\n",
       "    <tr>\n",
       "      <th>count</th>\n",
       "      <td>32341.000000</td>\n",
       "      <td>32341.000000</td>\n",
       "      <td>32949.000000</td>\n",
       "      <td>32949.000000</td>\n",
       "      <td>32949.000000</td>\n",
       "      <td>32949.000000</td>\n",
       "    </tr>\n",
       "    <tr>\n",
       "      <th>mean</th>\n",
       "      <td>48.476949</td>\n",
       "      <td>771.495285</td>\n",
       "      <td>2276.472488</td>\n",
       "      <td>30.815078</td>\n",
       "      <td>16.937661</td>\n",
       "      <td>23.196728</td>\n",
       "    </tr>\n",
       "    <tr>\n",
       "      <th>std</th>\n",
       "      <td>10.245741</td>\n",
       "      <td>635.115225</td>\n",
       "      <td>4282.038731</td>\n",
       "      <td>16.914458</td>\n",
       "      <td>13.637554</td>\n",
       "      <td>12.079047</td>\n",
       "    </tr>\n",
       "    <tr>\n",
       "      <th>min</th>\n",
       "      <td>5.000000</td>\n",
       "      <td>4.000000</td>\n",
       "      <td>0.000000</td>\n",
       "      <td>7.000000</td>\n",
       "      <td>2.000000</td>\n",
       "      <td>6.000000</td>\n",
       "    </tr>\n",
       "    <tr>\n",
       "      <th>25%</th>\n",
       "      <td>42.000000</td>\n",
       "      <td>339.000000</td>\n",
       "      <td>300.000000</td>\n",
       "      <td>18.000000</td>\n",
       "      <td>8.000000</td>\n",
       "      <td>15.000000</td>\n",
       "    </tr>\n",
       "    <tr>\n",
       "      <th>50%</th>\n",
       "      <td>51.000000</td>\n",
       "      <td>595.000000</td>\n",
       "      <td>700.000000</td>\n",
       "      <td>25.000000</td>\n",
       "      <td>13.000000</td>\n",
       "      <td>20.000000</td>\n",
       "    </tr>\n",
       "    <tr>\n",
       "      <th>75%</th>\n",
       "      <td>57.000000</td>\n",
       "      <td>972.000000</td>\n",
       "      <td>1900.000000</td>\n",
       "      <td>38.000000</td>\n",
       "      <td>21.000000</td>\n",
       "      <td>30.000000</td>\n",
       "    </tr>\n",
       "    <tr>\n",
       "      <th>max</th>\n",
       "      <td>76.000000</td>\n",
       "      <td>3992.000000</td>\n",
       "      <td>40425.000000</td>\n",
       "      <td>105.000000</td>\n",
       "      <td>105.000000</td>\n",
       "      <td>118.000000</td>\n",
       "    </tr>\n",
       "  </tbody>\n",
       "</table>\n",
       "</div>"
      ],
      "text/plain": [
       "       product_name_lenght  product_description_lenght  product_weight_g  \\\n",
       "count         32341.000000                32341.000000      32949.000000   \n",
       "mean             48.476949                  771.495285       2276.472488   \n",
       "std              10.245741                  635.115225       4282.038731   \n",
       "min               5.000000                    4.000000          0.000000   \n",
       "25%              42.000000                  339.000000        300.000000   \n",
       "50%              51.000000                  595.000000        700.000000   \n",
       "75%              57.000000                  972.000000       1900.000000   \n",
       "max              76.000000                 3992.000000      40425.000000   \n",
       "\n",
       "       product_length_cm  product_height_cm  product_width_cm  \n",
       "count       32949.000000       32949.000000      32949.000000  \n",
       "mean           30.815078          16.937661         23.196728  \n",
       "std            16.914458          13.637554         12.079047  \n",
       "min             7.000000           2.000000          6.000000  \n",
       "25%            18.000000           8.000000         15.000000  \n",
       "50%            25.000000          13.000000         20.000000  \n",
       "75%            38.000000          21.000000         30.000000  \n",
       "max           105.000000         105.000000        118.000000  "
      ]
     },
     "execution_count": 51,
     "metadata": {},
     "output_type": "execute_result"
    }
   ],
   "source": [
    "df_product.describe()"
   ]
  },
  {
   "cell_type": "code",
   "execution_count": 47,
   "id": "0bf88de4",
   "metadata": {
    "ExecuteTime": {
     "end_time": "2021-11-06T14:51:43.113736Z",
     "start_time": "2021-11-06T14:51:43.092755Z"
    }
   },
   "outputs": [
    {
     "data": {
      "text/plain": [
       "73"
      ]
     },
     "execution_count": 47,
     "metadata": {},
     "output_type": "execute_result"
    }
   ],
   "source": [
    "df_product['product_category_name'].nunique()"
   ]
  },
  {
   "cell_type": "code",
   "execution_count": 49,
   "id": "3106da0f",
   "metadata": {
    "ExecuteTime": {
     "end_time": "2021-11-06T14:52:07.322823Z",
     "start_time": "2021-11-06T14:52:07.307862Z"
    }
   },
   "outputs": [
    {
     "data": {
      "text/plain": [
       "cama_mesa_banho                      3029\n",
       "esporte_lazer                        2867\n",
       "moveis_decoracao                     2657\n",
       "beleza_saude                         2444\n",
       "utilidades_domesticas                2335\n",
       "automotivo                           1900\n",
       "informatica_acessorios               1639\n",
       "brinquedos                           1411\n",
       "relogios_presentes                   1329\n",
       "telefonia                            1134\n",
       "bebes                                 919\n",
       "perfumaria                            868\n",
       "papelaria                             849\n",
       "fashion_bolsas_e_acessorios           849\n",
       "cool_stuff                            789\n",
       "ferramentas_jardim                    753\n",
       "pet_shop                              719\n",
       "eletronicos                           517\n",
       "construcao_ferramentas_construcao     400\n",
       "eletrodomesticos                      370\n",
       "malas_acessorios                      349\n",
       "Name: product_category_name, dtype: int64"
      ]
     },
     "execution_count": 49,
     "metadata": {},
     "output_type": "execute_result"
    }
   ],
   "source": [
    "df_product['product_category_name'].value_counts()[:21]"
   ]
  },
  {
   "cell_type": "markdown",
   "id": "dd123a4c",
   "metadata": {},
   "source": [
    "# Perguntas sobre os dados"
   ]
  },
  {
   "cell_type": "markdown",
   "id": "bfb9edbf",
   "metadata": {},
   "source": [
    "## Quais são os 1000 produtos com mais avaliações e suas médias?"
   ]
  },
  {
   "cell_type": "code",
   "execution_count": 52,
   "id": "e3df880e",
   "metadata": {
    "ExecuteTime": {
     "end_time": "2021-11-06T14:59:39.628690Z",
     "start_time": "2021-11-06T14:59:39.522866Z"
    }
   },
   "outputs": [
    {
     "data": {
      "text/html": [
       "<div>\n",
       "<style scoped>\n",
       "    .dataframe tbody tr th:only-of-type {\n",
       "        vertical-align: middle;\n",
       "    }\n",
       "\n",
       "    .dataframe tbody tr th {\n",
       "        vertical-align: top;\n",
       "    }\n",
       "\n",
       "    .dataframe thead th {\n",
       "        text-align: right;\n",
       "    }\n",
       "</style>\n",
       "<table border=\"1\" class=\"dataframe\">\n",
       "  <thead>\n",
       "    <tr style=\"text-align: right;\">\n",
       "      <th></th>\n",
       "      <th>order_id</th>\n",
       "      <th>order_item_id</th>\n",
       "      <th>product_id</th>\n",
       "      <th>price</th>\n",
       "      <th>review_id</th>\n",
       "      <th>review_score</th>\n",
       "    </tr>\n",
       "  </thead>\n",
       "  <tbody>\n",
       "    <tr>\n",
       "      <th>0</th>\n",
       "      <td>00010242fe8c5a6d1ba2dd792cb16214</td>\n",
       "      <td>1</td>\n",
       "      <td>4244733e06e7ecb4970a6e2683c13e61</td>\n",
       "      <td>58.90</td>\n",
       "      <td>97ca439bc427b48bc1cd7177abe71365</td>\n",
       "      <td>5.0</td>\n",
       "    </tr>\n",
       "    <tr>\n",
       "      <th>1</th>\n",
       "      <td>00018f77f2f0320c557190d7a144bdd3</td>\n",
       "      <td>1</td>\n",
       "      <td>e5f2d52b802189ee658865ca93d83a8f</td>\n",
       "      <td>239.90</td>\n",
       "      <td>7b07bacd811c4117b742569b04ce3580</td>\n",
       "      <td>4.0</td>\n",
       "    </tr>\n",
       "    <tr>\n",
       "      <th>2</th>\n",
       "      <td>000229ec398224ef6ca0657da4fc703e</td>\n",
       "      <td>1</td>\n",
       "      <td>c777355d18b72b67abbeef9df44fd0fd</td>\n",
       "      <td>199.00</td>\n",
       "      <td>0c5b33dea94867d1ac402749e5438e8b</td>\n",
       "      <td>5.0</td>\n",
       "    </tr>\n",
       "    <tr>\n",
       "      <th>3</th>\n",
       "      <td>00024acbcdf0a6daa1e931b038114c75</td>\n",
       "      <td>1</td>\n",
       "      <td>7634da152a4610f1595efa32f14722fc</td>\n",
       "      <td>12.99</td>\n",
       "      <td>f4028d019cb58564807486a6aaf33817</td>\n",
       "      <td>4.0</td>\n",
       "    </tr>\n",
       "    <tr>\n",
       "      <th>4</th>\n",
       "      <td>00042b26cf59d7ce69dfabb4e55b4fd9</td>\n",
       "      <td>1</td>\n",
       "      <td>ac6c3623068f30de03045865e4e10089</td>\n",
       "      <td>199.90</td>\n",
       "      <td>940144190dcba6351888cafa43f3a3a5</td>\n",
       "      <td>5.0</td>\n",
       "    </tr>\n",
       "  </tbody>\n",
       "</table>\n",
       "</div>"
      ],
      "text/plain": [
       "                           order_id  order_item_id  \\\n",
       "0  00010242fe8c5a6d1ba2dd792cb16214              1   \n",
       "1  00018f77f2f0320c557190d7a144bdd3              1   \n",
       "2  000229ec398224ef6ca0657da4fc703e              1   \n",
       "3  00024acbcdf0a6daa1e931b038114c75              1   \n",
       "4  00042b26cf59d7ce69dfabb4e55b4fd9              1   \n",
       "\n",
       "                         product_id   price                         review_id  \\\n",
       "0  4244733e06e7ecb4970a6e2683c13e61   58.90  97ca439bc427b48bc1cd7177abe71365   \n",
       "1  e5f2d52b802189ee658865ca93d83a8f  239.90  7b07bacd811c4117b742569b04ce3580   \n",
       "2  c777355d18b72b67abbeef9df44fd0fd  199.00  0c5b33dea94867d1ac402749e5438e8b   \n",
       "3  7634da152a4610f1595efa32f14722fc   12.99  f4028d019cb58564807486a6aaf33817   \n",
       "4  ac6c3623068f30de03045865e4e10089  199.90  940144190dcba6351888cafa43f3a3a5   \n",
       "\n",
       "   review_score  \n",
       "0           5.0  \n",
       "1           4.0  \n",
       "2           5.0  \n",
       "3           4.0  \n",
       "4           5.0  "
      ]
     },
     "execution_count": 52,
     "metadata": {},
     "output_type": "execute_result"
    }
   ],
   "source": [
    "df_merge = df_item.merge(df_review, how='left', on='order_id')\n",
    "df_merge.head()"
   ]
  },
  {
   "cell_type": "code",
   "execution_count": 95,
   "id": "716034da",
   "metadata": {
    "ExecuteTime": {
     "end_time": "2021-11-06T16:09:24.245203Z",
     "start_time": "2021-11-06T16:09:19.620205Z"
    }
   },
   "outputs": [],
   "source": [
    "df_top1000 = df_merge.groupby(by='product_id', as_index=False).agg({'order_id': pd.Series.nunique,  \n",
    "                                                                   'review_score':np.mean}) \\\n",
    "    .rename(columns={'order_id': 'product_sales'}) \\\n",
    "    .sort_values('product_sales', ascending = False)\n",
    "df_top1000.drop_duplicates(inplace=True)\n",
    "df_top1000 = df_top1000[:1001]\n",
    "df_top1000['review_score'] = df_top1000['review_score'].round(2)\n",
    "df_top1000.sort_values('review_score', ascending = False, inplace=True)"
   ]
  },
  {
   "cell_type": "code",
   "execution_count": 96,
   "id": "30759e8a",
   "metadata": {
    "ExecuteTime": {
     "end_time": "2021-11-06T16:09:24.261222Z",
     "start_time": "2021-11-06T16:09:24.247209Z"
    }
   },
   "outputs": [
    {
     "data": {
      "text/html": [
       "<div>\n",
       "<style scoped>\n",
       "    .dataframe tbody tr th:only-of-type {\n",
       "        vertical-align: middle;\n",
       "    }\n",
       "\n",
       "    .dataframe tbody tr th {\n",
       "        vertical-align: top;\n",
       "    }\n",
       "\n",
       "    .dataframe thead th {\n",
       "        text-align: right;\n",
       "    }\n",
       "</style>\n",
       "<table border=\"1\" class=\"dataframe\">\n",
       "  <thead>\n",
       "    <tr style=\"text-align: right;\">\n",
       "      <th></th>\n",
       "      <th>product_id</th>\n",
       "      <th>product_sales</th>\n",
       "      <th>review_score</th>\n",
       "    </tr>\n",
       "  </thead>\n",
       "  <tbody>\n",
       "    <tr>\n",
       "      <th>8103</th>\n",
       "      <td>3e4176d545618ed02f382a3057de32b4</td>\n",
       "      <td>24</td>\n",
       "      <td>4.96</td>\n",
       "    </tr>\n",
       "    <tr>\n",
       "      <th>12776</th>\n",
       "      <td>62c89abe1afe3a23c17765d462718a4c</td>\n",
       "      <td>16</td>\n",
       "      <td>4.94</td>\n",
       "    </tr>\n",
       "    <tr>\n",
       "      <th>28667</th>\n",
       "      <td>de480e3ae31eea2d2d97d694c43172fc</td>\n",
       "      <td>16</td>\n",
       "      <td>4.89</td>\n",
       "    </tr>\n",
       "    <tr>\n",
       "      <th>29844</th>\n",
       "      <td>e7f85e7f0203b7b95cc1b4c21b4b070c</td>\n",
       "      <td>21</td>\n",
       "      <td>4.87</td>\n",
       "    </tr>\n",
       "    <tr>\n",
       "      <th>14933</th>\n",
       "      <td>73326828aa5efe1ba096223de496f596</td>\n",
       "      <td>53</td>\n",
       "      <td>4.83</td>\n",
       "    </tr>\n",
       "    <tr>\n",
       "      <th>...</th>\n",
       "      <td>...</td>\n",
       "      <td>...</td>\n",
       "      <td>...</td>\n",
       "    </tr>\n",
       "    <tr>\n",
       "      <th>23184</th>\n",
       "      <td>b4b817e5f2c4efc8253b4b679c653847</td>\n",
       "      <td>18</td>\n",
       "      <td>2.67</td>\n",
       "    </tr>\n",
       "    <tr>\n",
       "      <th>17708</th>\n",
       "      <td>89b121bee266dcd25688a1ba72eefb61</td>\n",
       "      <td>62</td>\n",
       "      <td>2.40</td>\n",
       "    </tr>\n",
       "    <tr>\n",
       "      <th>22838</th>\n",
       "      <td>b1d207586fca400a2370d50a9ba1da98</td>\n",
       "      <td>43</td>\n",
       "      <td>1.92</td>\n",
       "    </tr>\n",
       "    <tr>\n",
       "      <th>26437</th>\n",
       "      <td>cd46a885543f0e169a49f1eb25c04e43</td>\n",
       "      <td>28</td>\n",
       "      <td>1.83</td>\n",
       "    </tr>\n",
       "    <tr>\n",
       "      <th>23027</th>\n",
       "      <td>b36f3c918c91478c4559160022d3f14e</td>\n",
       "      <td>17</td>\n",
       "      <td>1.81</td>\n",
       "    </tr>\n",
       "  </tbody>\n",
       "</table>\n",
       "<p>1001 rows × 3 columns</p>\n",
       "</div>"
      ],
      "text/plain": [
       "                             product_id  product_sales  review_score\n",
       "8103   3e4176d545618ed02f382a3057de32b4             24          4.96\n",
       "12776  62c89abe1afe3a23c17765d462718a4c             16          4.94\n",
       "28667  de480e3ae31eea2d2d97d694c43172fc             16          4.89\n",
       "29844  e7f85e7f0203b7b95cc1b4c21b4b070c             21          4.87\n",
       "14933  73326828aa5efe1ba096223de496f596             53          4.83\n",
       "...                                 ...            ...           ...\n",
       "23184  b4b817e5f2c4efc8253b4b679c653847             18          2.67\n",
       "17708  89b121bee266dcd25688a1ba72eefb61             62          2.40\n",
       "22838  b1d207586fca400a2370d50a9ba1da98             43          1.92\n",
       "26437  cd46a885543f0e169a49f1eb25c04e43             28          1.83\n",
       "23027  b36f3c918c91478c4559160022d3f14e             17          1.81\n",
       "\n",
       "[1001 rows x 3 columns]"
      ]
     },
     "execution_count": 96,
     "metadata": {},
     "output_type": "execute_result"
    }
   ],
   "source": [
    "df_top1000"
   ]
  },
  {
   "cell_type": "markdown",
   "id": "094fac2e",
   "metadata": {},
   "source": [
    "## Quais são as características dos 1000 produtos mais vendidos?"
   ]
  },
  {
   "cell_type": "code",
   "execution_count": 97,
   "id": "78f093ba",
   "metadata": {
    "ExecuteTime": {
     "end_time": "2021-11-06T16:09:29.852490Z",
     "start_time": "2021-11-06T16:09:29.841463Z"
    }
   },
   "outputs": [],
   "source": [
    "df_top1000_backup = df_top1000"
   ]
  },
  {
   "cell_type": "code",
   "execution_count": 110,
   "id": "ebf2a5f3",
   "metadata": {
    "ExecuteTime": {
     "end_time": "2021-11-06T16:18:00.103862Z",
     "start_time": "2021-11-06T16:18:00.087863Z"
    }
   },
   "outputs": [],
   "source": [
    "df_top1000 = df_top1000_backup"
   ]
  },
  {
   "cell_type": "code",
   "execution_count": 111,
   "id": "8af06a7b",
   "metadata": {
    "ExecuteTime": {
     "end_time": "2021-11-06T16:18:03.870952Z",
     "start_time": "2021-11-06T16:18:03.852931Z"
    }
   },
   "outputs": [],
   "source": [
    "df_top1000 = df_top1000.merge(df_product, how='left', on='product_id')"
   ]
  },
  {
   "cell_type": "code",
   "execution_count": 112,
   "id": "5725ac41",
   "metadata": {
    "ExecuteTime": {
     "end_time": "2021-11-06T16:18:06.656757Z",
     "start_time": "2021-11-06T16:18:06.629734Z"
    }
   },
   "outputs": [
    {
     "data": {
      "text/html": [
       "<div>\n",
       "<style scoped>\n",
       "    .dataframe tbody tr th:only-of-type {\n",
       "        vertical-align: middle;\n",
       "    }\n",
       "\n",
       "    .dataframe tbody tr th {\n",
       "        vertical-align: top;\n",
       "    }\n",
       "\n",
       "    .dataframe thead th {\n",
       "        text-align: right;\n",
       "    }\n",
       "</style>\n",
       "<table border=\"1\" class=\"dataframe\">\n",
       "  <thead>\n",
       "    <tr style=\"text-align: right;\">\n",
       "      <th></th>\n",
       "      <th>product_id</th>\n",
       "      <th>product_sales</th>\n",
       "      <th>review_score</th>\n",
       "      <th>product_category_name</th>\n",
       "      <th>product_name_lenght</th>\n",
       "      <th>product_description_lenght</th>\n",
       "      <th>product_weight_g</th>\n",
       "      <th>product_length_cm</th>\n",
       "      <th>product_height_cm</th>\n",
       "      <th>product_width_cm</th>\n",
       "    </tr>\n",
       "  </thead>\n",
       "  <tbody>\n",
       "    <tr>\n",
       "      <th>0</th>\n",
       "      <td>3e4176d545618ed02f382a3057de32b4</td>\n",
       "      <td>24</td>\n",
       "      <td>4.96</td>\n",
       "      <td>malas_acessorios</td>\n",
       "      <td>35.0</td>\n",
       "      <td>468.0</td>\n",
       "      <td>1200.0</td>\n",
       "      <td>40.0</td>\n",
       "      <td>22.0</td>\n",
       "      <td>30.0</td>\n",
       "    </tr>\n",
       "    <tr>\n",
       "      <th>1</th>\n",
       "      <td>62c89abe1afe3a23c17765d462718a4c</td>\n",
       "      <td>16</td>\n",
       "      <td>4.94</td>\n",
       "      <td>perfumaria</td>\n",
       "      <td>51.0</td>\n",
       "      <td>805.0</td>\n",
       "      <td>540.0</td>\n",
       "      <td>23.0</td>\n",
       "      <td>13.0</td>\n",
       "      <td>19.0</td>\n",
       "    </tr>\n",
       "    <tr>\n",
       "      <th>2</th>\n",
       "      <td>de480e3ae31eea2d2d97d694c43172fc</td>\n",
       "      <td>16</td>\n",
       "      <td>4.89</td>\n",
       "      <td>informatica_acessorios</td>\n",
       "      <td>48.0</td>\n",
       "      <td>535.0</td>\n",
       "      <td>150.0</td>\n",
       "      <td>16.0</td>\n",
       "      <td>5.0</td>\n",
       "      <td>11.0</td>\n",
       "    </tr>\n",
       "    <tr>\n",
       "      <th>3</th>\n",
       "      <td>e7f85e7f0203b7b95cc1b4c21b4b070c</td>\n",
       "      <td>21</td>\n",
       "      <td>4.87</td>\n",
       "      <td>cool_stuff</td>\n",
       "      <td>42.0</td>\n",
       "      <td>582.0</td>\n",
       "      <td>5575.0</td>\n",
       "      <td>60.0</td>\n",
       "      <td>22.0</td>\n",
       "      <td>47.0</td>\n",
       "    </tr>\n",
       "    <tr>\n",
       "      <th>4</th>\n",
       "      <td>73326828aa5efe1ba096223de496f596</td>\n",
       "      <td>53</td>\n",
       "      <td>4.83</td>\n",
       "      <td>alimentos</td>\n",
       "      <td>32.0</td>\n",
       "      <td>1392.0</td>\n",
       "      <td>330.0</td>\n",
       "      <td>20.0</td>\n",
       "      <td>15.0</td>\n",
       "      <td>16.0</td>\n",
       "    </tr>\n",
       "  </tbody>\n",
       "</table>\n",
       "</div>"
      ],
      "text/plain": [
       "                         product_id  product_sales  review_score  \\\n",
       "0  3e4176d545618ed02f382a3057de32b4             24          4.96   \n",
       "1  62c89abe1afe3a23c17765d462718a4c             16          4.94   \n",
       "2  de480e3ae31eea2d2d97d694c43172fc             16          4.89   \n",
       "3  e7f85e7f0203b7b95cc1b4c21b4b070c             21          4.87   \n",
       "4  73326828aa5efe1ba096223de496f596             53          4.83   \n",
       "\n",
       "    product_category_name  product_name_lenght  product_description_lenght  \\\n",
       "0        malas_acessorios                 35.0                       468.0   \n",
       "1              perfumaria                 51.0                       805.0   \n",
       "2  informatica_acessorios                 48.0                       535.0   \n",
       "3              cool_stuff                 42.0                       582.0   \n",
       "4               alimentos                 32.0                      1392.0   \n",
       "\n",
       "   product_weight_g  product_length_cm  product_height_cm  product_width_cm  \n",
       "0            1200.0               40.0               22.0              30.0  \n",
       "1             540.0               23.0               13.0              19.0  \n",
       "2             150.0               16.0                5.0              11.0  \n",
       "3            5575.0               60.0               22.0              47.0  \n",
       "4             330.0               20.0               15.0              16.0  "
      ]
     },
     "execution_count": 112,
     "metadata": {},
     "output_type": "execute_result"
    }
   ],
   "source": [
    "df_top1000.head()"
   ]
  },
  {
   "cell_type": "code",
   "execution_count": 113,
   "id": "808094ef",
   "metadata": {
    "ExecuteTime": {
     "end_time": "2021-11-06T16:18:10.765958Z",
     "start_time": "2021-11-06T16:18:10.753932Z"
    }
   },
   "outputs": [
    {
     "data": {
      "text/plain": [
       "product_id                     0\n",
       "product_sales                  0\n",
       "review_score                   0\n",
       "product_category_name         11\n",
       "product_name_lenght           11\n",
       "product_description_lenght    11\n",
       "product_weight_g               1\n",
       "product_length_cm              1\n",
       "product_height_cm              1\n",
       "product_width_cm               1\n",
       "dtype: int64"
      ]
     },
     "execution_count": 113,
     "metadata": {},
     "output_type": "execute_result"
    }
   ],
   "source": [
    "df_top1000.isnull().sum()"
   ]
  },
  {
   "cell_type": "code",
   "execution_count": 114,
   "id": "47984a6b",
   "metadata": {
    "ExecuteTime": {
     "end_time": "2021-11-06T16:18:14.224066Z",
     "start_time": "2021-11-06T16:18:14.219044Z"
    }
   },
   "outputs": [],
   "source": [
    "df_top1000.dropna(inplace=True)"
   ]
  },
  {
   "cell_type": "code",
   "execution_count": 115,
   "id": "fe2a0c29",
   "metadata": {
    "ExecuteTime": {
     "end_time": "2021-11-06T16:18:17.129243Z",
     "start_time": "2021-11-06T16:18:17.109652Z"
    }
   },
   "outputs": [
    {
     "data": {
      "text/plain": [
       "product_id                    0\n",
       "product_sales                 0\n",
       "review_score                  0\n",
       "product_category_name         0\n",
       "product_name_lenght           0\n",
       "product_description_lenght    0\n",
       "product_weight_g              0\n",
       "product_length_cm             0\n",
       "product_height_cm             0\n",
       "product_width_cm              0\n",
       "dtype: int64"
      ]
     },
     "execution_count": 115,
     "metadata": {},
     "output_type": "execute_result"
    }
   ],
   "source": [
    "df_top1000.isnull().sum()"
   ]
  },
  {
   "cell_type": "markdown",
   "id": "aa1e96e8",
   "metadata": {},
   "source": [
    "## Dumificando as categorias dos produtos"
   ]
  },
  {
   "cell_type": "code",
   "execution_count": 131,
   "id": "47217cb5",
   "metadata": {
    "ExecuteTime": {
     "end_time": "2021-11-06T16:26:07.488820Z",
     "start_time": "2021-11-06T16:26:07.471812Z"
    }
   },
   "outputs": [],
   "source": [
    "df_top1000 = pd.get_dummies(df_top1000, columns=['product_category_name'])"
   ]
  },
  {
   "cell_type": "code",
   "execution_count": 132,
   "id": "d59c9f17",
   "metadata": {
    "ExecuteTime": {
     "end_time": "2021-11-06T16:26:10.890239Z",
     "start_time": "2021-11-06T16:26:10.864254Z"
    }
   },
   "outputs": [
    {
     "data": {
      "text/html": [
       "<div>\n",
       "<style scoped>\n",
       "    .dataframe tbody tr th:only-of-type {\n",
       "        vertical-align: middle;\n",
       "    }\n",
       "\n",
       "    .dataframe tbody tr th {\n",
       "        vertical-align: top;\n",
       "    }\n",
       "\n",
       "    .dataframe thead th {\n",
       "        text-align: right;\n",
       "    }\n",
       "</style>\n",
       "<table border=\"1\" class=\"dataframe\">\n",
       "  <thead>\n",
       "    <tr style=\"text-align: right;\">\n",
       "      <th></th>\n",
       "      <th>product_id</th>\n",
       "      <th>product_sales</th>\n",
       "      <th>review_score</th>\n",
       "      <th>product_name_lenght</th>\n",
       "      <th>product_description_lenght</th>\n",
       "      <th>product_weight_g</th>\n",
       "      <th>product_length_cm</th>\n",
       "      <th>product_height_cm</th>\n",
       "      <th>product_width_cm</th>\n",
       "      <th>product_category_name_agro_industria_e_comercio</th>\n",
       "      <th>...</th>\n",
       "      <th>product_category_name_papelaria</th>\n",
       "      <th>product_category_name_pcs</th>\n",
       "      <th>product_category_name_perfumaria</th>\n",
       "      <th>product_category_name_pet_shop</th>\n",
       "      <th>product_category_name_portateis_casa_forno_e_cafe</th>\n",
       "      <th>product_category_name_relogios_presentes</th>\n",
       "      <th>product_category_name_tablets_impressao_imagem</th>\n",
       "      <th>product_category_name_telefonia</th>\n",
       "      <th>product_category_name_telefonia_fixa</th>\n",
       "      <th>product_category_name_utilidades_domesticas</th>\n",
       "    </tr>\n",
       "  </thead>\n",
       "  <tbody>\n",
       "    <tr>\n",
       "      <th>0</th>\n",
       "      <td>3e4176d545618ed02f382a3057de32b4</td>\n",
       "      <td>24</td>\n",
       "      <td>4.96</td>\n",
       "      <td>35.0</td>\n",
       "      <td>468.0</td>\n",
       "      <td>1200.0</td>\n",
       "      <td>40.0</td>\n",
       "      <td>22.0</td>\n",
       "      <td>30.0</td>\n",
       "      <td>0</td>\n",
       "      <td>...</td>\n",
       "      <td>0</td>\n",
       "      <td>0</td>\n",
       "      <td>0</td>\n",
       "      <td>0</td>\n",
       "      <td>0</td>\n",
       "      <td>0</td>\n",
       "      <td>0</td>\n",
       "      <td>0</td>\n",
       "      <td>0</td>\n",
       "      <td>0</td>\n",
       "    </tr>\n",
       "    <tr>\n",
       "      <th>1</th>\n",
       "      <td>62c89abe1afe3a23c17765d462718a4c</td>\n",
       "      <td>16</td>\n",
       "      <td>4.94</td>\n",
       "      <td>51.0</td>\n",
       "      <td>805.0</td>\n",
       "      <td>540.0</td>\n",
       "      <td>23.0</td>\n",
       "      <td>13.0</td>\n",
       "      <td>19.0</td>\n",
       "      <td>0</td>\n",
       "      <td>...</td>\n",
       "      <td>0</td>\n",
       "      <td>0</td>\n",
       "      <td>1</td>\n",
       "      <td>0</td>\n",
       "      <td>0</td>\n",
       "      <td>0</td>\n",
       "      <td>0</td>\n",
       "      <td>0</td>\n",
       "      <td>0</td>\n",
       "      <td>0</td>\n",
       "    </tr>\n",
       "    <tr>\n",
       "      <th>2</th>\n",
       "      <td>de480e3ae31eea2d2d97d694c43172fc</td>\n",
       "      <td>16</td>\n",
       "      <td>4.89</td>\n",
       "      <td>48.0</td>\n",
       "      <td>535.0</td>\n",
       "      <td>150.0</td>\n",
       "      <td>16.0</td>\n",
       "      <td>5.0</td>\n",
       "      <td>11.0</td>\n",
       "      <td>0</td>\n",
       "      <td>...</td>\n",
       "      <td>0</td>\n",
       "      <td>0</td>\n",
       "      <td>0</td>\n",
       "      <td>0</td>\n",
       "      <td>0</td>\n",
       "      <td>0</td>\n",
       "      <td>0</td>\n",
       "      <td>0</td>\n",
       "      <td>0</td>\n",
       "      <td>0</td>\n",
       "    </tr>\n",
       "    <tr>\n",
       "      <th>3</th>\n",
       "      <td>e7f85e7f0203b7b95cc1b4c21b4b070c</td>\n",
       "      <td>21</td>\n",
       "      <td>4.87</td>\n",
       "      <td>42.0</td>\n",
       "      <td>582.0</td>\n",
       "      <td>5575.0</td>\n",
       "      <td>60.0</td>\n",
       "      <td>22.0</td>\n",
       "      <td>47.0</td>\n",
       "      <td>0</td>\n",
       "      <td>...</td>\n",
       "      <td>0</td>\n",
       "      <td>0</td>\n",
       "      <td>0</td>\n",
       "      <td>0</td>\n",
       "      <td>0</td>\n",
       "      <td>0</td>\n",
       "      <td>0</td>\n",
       "      <td>0</td>\n",
       "      <td>0</td>\n",
       "      <td>0</td>\n",
       "    </tr>\n",
       "    <tr>\n",
       "      <th>4</th>\n",
       "      <td>73326828aa5efe1ba096223de496f596</td>\n",
       "      <td>53</td>\n",
       "      <td>4.83</td>\n",
       "      <td>32.0</td>\n",
       "      <td>1392.0</td>\n",
       "      <td>330.0</td>\n",
       "      <td>20.0</td>\n",
       "      <td>15.0</td>\n",
       "      <td>16.0</td>\n",
       "      <td>0</td>\n",
       "      <td>...</td>\n",
       "      <td>0</td>\n",
       "      <td>0</td>\n",
       "      <td>0</td>\n",
       "      <td>0</td>\n",
       "      <td>0</td>\n",
       "      <td>0</td>\n",
       "      <td>0</td>\n",
       "      <td>0</td>\n",
       "      <td>0</td>\n",
       "      <td>0</td>\n",
       "    </tr>\n",
       "  </tbody>\n",
       "</table>\n",
       "<p>5 rows × 60 columns</p>\n",
       "</div>"
      ],
      "text/plain": [
       "                         product_id  product_sales  review_score  \\\n",
       "0  3e4176d545618ed02f382a3057de32b4             24          4.96   \n",
       "1  62c89abe1afe3a23c17765d462718a4c             16          4.94   \n",
       "2  de480e3ae31eea2d2d97d694c43172fc             16          4.89   \n",
       "3  e7f85e7f0203b7b95cc1b4c21b4b070c             21          4.87   \n",
       "4  73326828aa5efe1ba096223de496f596             53          4.83   \n",
       "\n",
       "   product_name_lenght  product_description_lenght  product_weight_g  \\\n",
       "0                 35.0                       468.0            1200.0   \n",
       "1                 51.0                       805.0             540.0   \n",
       "2                 48.0                       535.0             150.0   \n",
       "3                 42.0                       582.0            5575.0   \n",
       "4                 32.0                      1392.0             330.0   \n",
       "\n",
       "   product_length_cm  product_height_cm  product_width_cm  \\\n",
       "0               40.0               22.0              30.0   \n",
       "1               23.0               13.0              19.0   \n",
       "2               16.0                5.0              11.0   \n",
       "3               60.0               22.0              47.0   \n",
       "4               20.0               15.0              16.0   \n",
       "\n",
       "   product_category_name_agro_industria_e_comercio  ...  \\\n",
       "0                                                0  ...   \n",
       "1                                                0  ...   \n",
       "2                                                0  ...   \n",
       "3                                                0  ...   \n",
       "4                                                0  ...   \n",
       "\n",
       "   product_category_name_papelaria  product_category_name_pcs  \\\n",
       "0                                0                          0   \n",
       "1                                0                          0   \n",
       "2                                0                          0   \n",
       "3                                0                          0   \n",
       "4                                0                          0   \n",
       "\n",
       "   product_category_name_perfumaria  product_category_name_pet_shop  \\\n",
       "0                                 0                               0   \n",
       "1                                 1                               0   \n",
       "2                                 0                               0   \n",
       "3                                 0                               0   \n",
       "4                                 0                               0   \n",
       "\n",
       "   product_category_name_portateis_casa_forno_e_cafe  \\\n",
       "0                                                  0   \n",
       "1                                                  0   \n",
       "2                                                  0   \n",
       "3                                                  0   \n",
       "4                                                  0   \n",
       "\n",
       "   product_category_name_relogios_presentes  \\\n",
       "0                                         0   \n",
       "1                                         0   \n",
       "2                                         0   \n",
       "3                                         0   \n",
       "4                                         0   \n",
       "\n",
       "   product_category_name_tablets_impressao_imagem  \\\n",
       "0                                               0   \n",
       "1                                               0   \n",
       "2                                               0   \n",
       "3                                               0   \n",
       "4                                               0   \n",
       "\n",
       "   product_category_name_telefonia  product_category_name_telefonia_fixa  \\\n",
       "0                                0                                     0   \n",
       "1                                0                                     0   \n",
       "2                                0                                     0   \n",
       "3                                0                                     0   \n",
       "4                                0                                     0   \n",
       "\n",
       "   product_category_name_utilidades_domesticas  \n",
       "0                                            0  \n",
       "1                                            0  \n",
       "2                                            0  \n",
       "3                                            0  \n",
       "4                                            0  \n",
       "\n",
       "[5 rows x 60 columns]"
      ]
     },
     "execution_count": 132,
     "metadata": {},
     "output_type": "execute_result"
    }
   ],
   "source": [
    "df_top1000.head()"
   ]
  },
  {
   "cell_type": "markdown",
   "id": "64affccf",
   "metadata": {},
   "source": [
    "# Exportando o df com os produtos mais vendidos"
   ]
  },
  {
   "cell_type": "code",
   "execution_count": 133,
   "id": "fa88781b",
   "metadata": {
    "ExecuteTime": {
     "end_time": "2021-11-06T16:26:16.025624Z",
     "start_time": "2021-11-06T16:26:15.999599Z"
    }
   },
   "outputs": [],
   "source": [
    "df_top1000.to_csv('ProdutosMaisVendidos.csv', encoding='utf-8', index=False)"
   ]
  },
  {
   "cell_type": "code",
   "execution_count": null,
   "id": "067b62e9",
   "metadata": {},
   "outputs": [],
   "source": []
  }
 ],
 "metadata": {
  "hide_input": false,
  "kernelspec": {
   "display_name": "Python 3",
   "language": "python",
   "name": "python3"
  },
  "language_info": {
   "codemirror_mode": {
    "name": "ipython",
    "version": 3
   },
   "file_extension": ".py",
   "mimetype": "text/x-python",
   "name": "python",
   "nbconvert_exporter": "python",
   "pygments_lexer": "ipython3",
   "version": "3.8.8"
  }
 },
 "nbformat": 4,
 "nbformat_minor": 5
}
